# Assuming the heatmap plot is created using seaborn's heatmap function
import seaborn as sns
import matplotlib.pyplot as plt

# ... (rest of the code remains the same)

# Create the heatmap plot
sns.heatmap(data, ax=ax)

# Add a colorbar
plt.colorbar(ax=ax)

# ... (rest of the code remains the same)
